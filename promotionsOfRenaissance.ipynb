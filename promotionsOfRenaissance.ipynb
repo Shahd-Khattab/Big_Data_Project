{
  "cells": [
    {
      "cell_type": "code",
      "execution_count": 1,
      "metadata": {
        "colab": {
          "base_uri": "https://localhost:8080/"
        },
        "id": "UCXO2Pws1FBI",
        "outputId": "1376eb3b-e645-4b1e-bb92-e59b1c90ff8b"
      },
      "outputs": [],
      "source": [
        "# Importing Libraries:\n",
        "import pandas as pd\n",
        "import numpy as np \n",
        "import matplotlib.pyplot as plt\n",
        "import seaborn as sns\n",
        "import findspark\n",
        "from pyspark import SparkContext, SparkConf\n",
        "from pyspark.sql import SparkSession\n",
        "from pyspark.sql.functions import lit\n",
        "from pyspark.sql.functions import *\n",
        "import findspark\n",
        "import pyspark.sql.functions as F\n",
        "\n",
        "from pyspark.sql.functions import concat_ws, col\n",
        "findspark.init()"
      ]
    },
    {
      "cell_type": "code",
      "execution_count": 2,
      "metadata": {
        "colab": {
          "base_uri": "https://localhost:8080/",
          "height": 678
        },
        "id": "Iz5oKZQU1FBV",
        "outputId": "afd1234d-bab5-4d0c-b964-3d2383796952"
      },
      "outputs": [
        {
          "data": {
            "text/html": [
              "<div>\n",
              "<style scoped>\n",
              "    .dataframe tbody tr th:only-of-type {\n",
              "        vertical-align: middle;\n",
              "    }\n",
              "\n",
              "    .dataframe tbody tr th {\n",
              "        vertical-align: top;\n",
              "    }\n",
              "\n",
              "    .dataframe thead th {\n",
              "        text-align: right;\n",
              "    }\n",
              "</style>\n",
              "<table border=\"1\" class=\"dataframe\">\n",
              "  <thead>\n",
              "    <tr style=\"text-align: right;\">\n",
              "      <th></th>\n",
              "      <th>hotel</th>\n",
              "      <th>is_canceled</th>\n",
              "      <th>lead_time</th>\n",
              "      <th>arrival_date_year</th>\n",
              "      <th>arrival_date_month</th>\n",
              "      <th>arrival_date_week_number</th>\n",
              "      <th>arrival_date_day_of_month</th>\n",
              "      <th>stays_in_weekend_nights</th>\n",
              "      <th>stays_in_week_nights</th>\n",
              "      <th>adults</th>\n",
              "      <th>...</th>\n",
              "      <th>assigned_room_type</th>\n",
              "      <th>booking_changes</th>\n",
              "      <th>deposit_type</th>\n",
              "      <th>agent</th>\n",
              "      <th>days_in_waiting_list</th>\n",
              "      <th>customer_type</th>\n",
              "      <th>adr</th>\n",
              "      <th>required_car_parking_spaces</th>\n",
              "      <th>total_of_special_requests</th>\n",
              "      <th>duration_of_stay</th>\n",
              "    </tr>\n",
              "  </thead>\n",
              "  <tbody>\n",
              "    <tr>\n",
              "      <th>0</th>\n",
              "      <td>Renaissance Hotel</td>\n",
              "      <td>0</td>\n",
              "      <td>13</td>\n",
              "      <td>2018</td>\n",
              "      <td>July</td>\n",
              "      <td>27</td>\n",
              "      <td>1</td>\n",
              "      <td>0</td>\n",
              "      <td>1</td>\n",
              "      <td>1</td>\n",
              "      <td>...</td>\n",
              "      <td>A</td>\n",
              "      <td>0</td>\n",
              "      <td>No Deposit</td>\n",
              "      <td>304.0</td>\n",
              "      <td>0</td>\n",
              "      <td>Transient</td>\n",
              "      <td>75.00</td>\n",
              "      <td>0</td>\n",
              "      <td>0</td>\n",
              "      <td>1</td>\n",
              "    </tr>\n",
              "    <tr>\n",
              "      <th>1</th>\n",
              "      <td>Renaissance Hotel</td>\n",
              "      <td>0</td>\n",
              "      <td>14</td>\n",
              "      <td>2018</td>\n",
              "      <td>July</td>\n",
              "      <td>27</td>\n",
              "      <td>1</td>\n",
              "      <td>0</td>\n",
              "      <td>2</td>\n",
              "      <td>2</td>\n",
              "      <td>...</td>\n",
              "      <td>A</td>\n",
              "      <td>0</td>\n",
              "      <td>No Deposit</td>\n",
              "      <td>240.0</td>\n",
              "      <td>0</td>\n",
              "      <td>Transient</td>\n",
              "      <td>98.00</td>\n",
              "      <td>0</td>\n",
              "      <td>1</td>\n",
              "      <td>2</td>\n",
              "    </tr>\n",
              "    <tr>\n",
              "      <th>2</th>\n",
              "      <td>Renaissance Hotel</td>\n",
              "      <td>0</td>\n",
              "      <td>9</td>\n",
              "      <td>2018</td>\n",
              "      <td>July</td>\n",
              "      <td>27</td>\n",
              "      <td>1</td>\n",
              "      <td>0</td>\n",
              "      <td>2</td>\n",
              "      <td>2</td>\n",
              "      <td>...</td>\n",
              "      <td>C</td>\n",
              "      <td>0</td>\n",
              "      <td>No Deposit</td>\n",
              "      <td>303.0</td>\n",
              "      <td>0</td>\n",
              "      <td>Transient</td>\n",
              "      <td>103.00</td>\n",
              "      <td>0</td>\n",
              "      <td>1</td>\n",
              "      <td>2</td>\n",
              "    </tr>\n",
              "    <tr>\n",
              "      <th>3</th>\n",
              "      <td>Renaissance Hotel</td>\n",
              "      <td>1</td>\n",
              "      <td>85</td>\n",
              "      <td>2018</td>\n",
              "      <td>July</td>\n",
              "      <td>27</td>\n",
              "      <td>1</td>\n",
              "      <td>0</td>\n",
              "      <td>3</td>\n",
              "      <td>2</td>\n",
              "      <td>...</td>\n",
              "      <td>A</td>\n",
              "      <td>0</td>\n",
              "      <td>No Deposit</td>\n",
              "      <td>240.0</td>\n",
              "      <td>0</td>\n",
              "      <td>Transient</td>\n",
              "      <td>82.00</td>\n",
              "      <td>0</td>\n",
              "      <td>1</td>\n",
              "      <td>3</td>\n",
              "    </tr>\n",
              "    <tr>\n",
              "      <th>4</th>\n",
              "      <td>Renaissance Hotel</td>\n",
              "      <td>1</td>\n",
              "      <td>75</td>\n",
              "      <td>2018</td>\n",
              "      <td>July</td>\n",
              "      <td>27</td>\n",
              "      <td>1</td>\n",
              "      <td>0</td>\n",
              "      <td>3</td>\n",
              "      <td>2</td>\n",
              "      <td>...</td>\n",
              "      <td>D</td>\n",
              "      <td>0</td>\n",
              "      <td>No Deposit</td>\n",
              "      <td>15.0</td>\n",
              "      <td>0</td>\n",
              "      <td>Transient</td>\n",
              "      <td>105.50</td>\n",
              "      <td>0</td>\n",
              "      <td>0</td>\n",
              "      <td>3</td>\n",
              "    </tr>\n",
              "    <tr>\n",
              "      <th>...</th>\n",
              "      <td>...</td>\n",
              "      <td>...</td>\n",
              "      <td>...</td>\n",
              "      <td>...</td>\n",
              "      <td>...</td>\n",
              "      <td>...</td>\n",
              "      <td>...</td>\n",
              "      <td>...</td>\n",
              "      <td>...</td>\n",
              "      <td>...</td>\n",
              "      <td>...</td>\n",
              "      <td>...</td>\n",
              "      <td>...</td>\n",
              "      <td>...</td>\n",
              "      <td>...</td>\n",
              "      <td>...</td>\n",
              "      <td>...</td>\n",
              "      <td>...</td>\n",
              "      <td>...</td>\n",
              "      <td>...</td>\n",
              "      <td>...</td>\n",
              "    </tr>\n",
              "    <tr>\n",
              "      <th>27166</th>\n",
              "      <td>Renaissance Hotel</td>\n",
              "      <td>0</td>\n",
              "      <td>212</td>\n",
              "      <td>2017</td>\n",
              "      <td>August</td>\n",
              "      <td>35</td>\n",
              "      <td>31</td>\n",
              "      <td>2</td>\n",
              "      <td>8</td>\n",
              "      <td>2</td>\n",
              "      <td>...</td>\n",
              "      <td>A</td>\n",
              "      <td>1</td>\n",
              "      <td>No Deposit</td>\n",
              "      <td>143.0</td>\n",
              "      <td>0</td>\n",
              "      <td>Transient</td>\n",
              "      <td>89.75</td>\n",
              "      <td>0</td>\n",
              "      <td>0</td>\n",
              "      <td>10</td>\n",
              "    </tr>\n",
              "    <tr>\n",
              "      <th>27167</th>\n",
              "      <td>Renaissance Hotel</td>\n",
              "      <td>0</td>\n",
              "      <td>169</td>\n",
              "      <td>2017</td>\n",
              "      <td>August</td>\n",
              "      <td>35</td>\n",
              "      <td>30</td>\n",
              "      <td>2</td>\n",
              "      <td>9</td>\n",
              "      <td>2</td>\n",
              "      <td>...</td>\n",
              "      <td>E</td>\n",
              "      <td>0</td>\n",
              "      <td>No Deposit</td>\n",
              "      <td>250.0</td>\n",
              "      <td>0</td>\n",
              "      <td>Transient-Party</td>\n",
              "      <td>202.27</td>\n",
              "      <td>0</td>\n",
              "      <td>1</td>\n",
              "      <td>11</td>\n",
              "    </tr>\n",
              "    <tr>\n",
              "      <th>27168</th>\n",
              "      <td>Renaissance Hotel</td>\n",
              "      <td>0</td>\n",
              "      <td>204</td>\n",
              "      <td>2017</td>\n",
              "      <td>August</td>\n",
              "      <td>35</td>\n",
              "      <td>29</td>\n",
              "      <td>4</td>\n",
              "      <td>10</td>\n",
              "      <td>2</td>\n",
              "      <td>...</td>\n",
              "      <td>E</td>\n",
              "      <td>0</td>\n",
              "      <td>No Deposit</td>\n",
              "      <td>250.0</td>\n",
              "      <td>0</td>\n",
              "      <td>Transient</td>\n",
              "      <td>153.57</td>\n",
              "      <td>0</td>\n",
              "      <td>3</td>\n",
              "      <td>14</td>\n",
              "    </tr>\n",
              "    <tr>\n",
              "      <th>27169</th>\n",
              "      <td>Renaissance Hotel</td>\n",
              "      <td>0</td>\n",
              "      <td>211</td>\n",
              "      <td>2017</td>\n",
              "      <td>August</td>\n",
              "      <td>35</td>\n",
              "      <td>31</td>\n",
              "      <td>4</td>\n",
              "      <td>10</td>\n",
              "      <td>2</td>\n",
              "      <td>...</td>\n",
              "      <td>D</td>\n",
              "      <td>0</td>\n",
              "      <td>No Deposit</td>\n",
              "      <td>40.0</td>\n",
              "      <td>0</td>\n",
              "      <td>Contract</td>\n",
              "      <td>112.80</td>\n",
              "      <td>0</td>\n",
              "      <td>1</td>\n",
              "      <td>14</td>\n",
              "    </tr>\n",
              "    <tr>\n",
              "      <th>27170</th>\n",
              "      <td>Renaissance Hotel</td>\n",
              "      <td>0</td>\n",
              "      <td>161</td>\n",
              "      <td>2017</td>\n",
              "      <td>August</td>\n",
              "      <td>35</td>\n",
              "      <td>31</td>\n",
              "      <td>4</td>\n",
              "      <td>10</td>\n",
              "      <td>2</td>\n",
              "      <td>...</td>\n",
              "      <td>A</td>\n",
              "      <td>0</td>\n",
              "      <td>No Deposit</td>\n",
              "      <td>69.0</td>\n",
              "      <td>0</td>\n",
              "      <td>Transient</td>\n",
              "      <td>99.06</td>\n",
              "      <td>0</td>\n",
              "      <td>0</td>\n",
              "      <td>14</td>\n",
              "    </tr>\n",
              "  </tbody>\n",
              "</table>\n",
              "<p>27171 rows × 29 columns</p>\n",
              "</div>"
            ],
            "text/plain": [
              "                   hotel  is_canceled  lead_time  arrival_date_year  \\\n",
              "0      Renaissance Hotel            0         13               2018   \n",
              "1      Renaissance Hotel            0         14               2018   \n",
              "2      Renaissance Hotel            0          9               2018   \n",
              "3      Renaissance Hotel            1         85               2018   \n",
              "4      Renaissance Hotel            1         75               2018   \n",
              "...                  ...          ...        ...                ...   \n",
              "27166  Renaissance Hotel            0        212               2017   \n",
              "27167  Renaissance Hotel            0        169               2017   \n",
              "27168  Renaissance Hotel            0        204               2017   \n",
              "27169  Renaissance Hotel            0        211               2017   \n",
              "27170  Renaissance Hotel            0        161               2017   \n",
              "\n",
              "      arrival_date_month  arrival_date_week_number  arrival_date_day_of_month  \\\n",
              "0                   July                        27                          1   \n",
              "1                   July                        27                          1   \n",
              "2                   July                        27                          1   \n",
              "3                   July                        27                          1   \n",
              "4                   July                        27                          1   \n",
              "...                  ...                       ...                        ...   \n",
              "27166             August                        35                         31   \n",
              "27167             August                        35                         30   \n",
              "27168             August                        35                         29   \n",
              "27169             August                        35                         31   \n",
              "27170             August                        35                         31   \n",
              "\n",
              "       stays_in_weekend_nights  stays_in_week_nights  adults  ...  \\\n",
              "0                            0                     1       1  ...   \n",
              "1                            0                     2       2  ...   \n",
              "2                            0                     2       2  ...   \n",
              "3                            0                     3       2  ...   \n",
              "4                            0                     3       2  ...   \n",
              "...                        ...                   ...     ...  ...   \n",
              "27166                        2                     8       2  ...   \n",
              "27167                        2                     9       2  ...   \n",
              "27168                        4                    10       2  ...   \n",
              "27169                        4                    10       2  ...   \n",
              "27170                        4                    10       2  ...   \n",
              "\n",
              "       assigned_room_type  booking_changes deposit_type  agent  \\\n",
              "0                       A                0   No Deposit  304.0   \n",
              "1                       A                0   No Deposit  240.0   \n",
              "2                       C                0   No Deposit  303.0   \n",
              "3                       A                0   No Deposit  240.0   \n",
              "4                       D                0   No Deposit   15.0   \n",
              "...                   ...              ...          ...    ...   \n",
              "27166                   A                1   No Deposit  143.0   \n",
              "27167                   E                0   No Deposit  250.0   \n",
              "27168                   E                0   No Deposit  250.0   \n",
              "27169                   D                0   No Deposit   40.0   \n",
              "27170                   A                0   No Deposit   69.0   \n",
              "\n",
              "      days_in_waiting_list    customer_type     adr  \\\n",
              "0                        0        Transient   75.00   \n",
              "1                        0        Transient   98.00   \n",
              "2                        0        Transient  103.00   \n",
              "3                        0        Transient   82.00   \n",
              "4                        0        Transient  105.50   \n",
              "...                    ...              ...     ...   \n",
              "27166                    0        Transient   89.75   \n",
              "27167                    0  Transient-Party  202.27   \n",
              "27168                    0        Transient  153.57   \n",
              "27169                    0         Contract  112.80   \n",
              "27170                    0        Transient   99.06   \n",
              "\n",
              "       required_car_parking_spaces total_of_special_requests duration_of_stay  \n",
              "0                                0                         0                1  \n",
              "1                                0                         1                2  \n",
              "2                                0                         1                2  \n",
              "3                                0                         1                3  \n",
              "4                                0                         0                3  \n",
              "...                            ...                       ...              ...  \n",
              "27166                            0                         0               10  \n",
              "27167                            0                         1               11  \n",
              "27168                            0                         3               14  \n",
              "27169                            0                         1               14  \n",
              "27170                            0                         0               14  \n",
              "\n",
              "[27171 rows x 29 columns]"
            ]
          },
          "execution_count": 2,
          "metadata": {},
          "output_type": "execute_result"
        }
      ],
      "source": [
        "# Reading the data\n",
        "data = pd.read_csv('Renaissance_Hotel.csv', encoding= 'unicode_escape') \n",
        "data=data.drop(['Unnamed: 0'], axis=1)\n",
        "data"
      ]
    },
    {
      "cell_type": "code",
      "execution_count": 3,
      "metadata": {
        "id": "gVZ6tCsn1FBZ"
      },
      "outputs": [],
      "source": [
        "# Number of rows and columns in the data set\n",
        "rows,cols=data.shape"
      ]
    },
    {
      "cell_type": "code",
      "execution_count": 4,
      "metadata": {
        "colab": {
          "base_uri": "https://localhost:8080/"
        },
        "id": "XuZELSS-1FBb",
        "outputId": "65b4d412-a677-4c9c-b6d0-ca81cfd83c49"
      },
      "outputs": [
        {
          "name": "stdout",
          "output_type": "stream",
          "text": [
            "hotel\n",
            "is_canceled\n",
            "lead_time\n",
            "arrival_date_year\n",
            "arrival_date_month\n",
            "arrival_date_week_number\n",
            "arrival_date_day_of_month\n",
            "stays_in_weekend_nights\n",
            "stays_in_week_nights\n",
            "adults\n",
            "children\n",
            "babies\n",
            "meal\n",
            "country\n",
            "distribution_channel\n",
            "is_repeated_guest\n",
            "previous_cancellations\n",
            "previous_bookings_not_canceled\n",
            "reserved_room_type\n",
            "assigned_room_type\n",
            "booking_changes\n",
            "deposit_type\n",
            "agent\n",
            "days_in_waiting_list\n",
            "customer_type\n",
            "adr\n",
            "required_car_parking_spaces\n",
            "total_of_special_requests\n",
            "duration_of_stay\n"
          ]
        }
      ],
      "source": [
        "# Names of all the column\n",
        "for col in data.columns:\n",
        "    print(col)"
      ]
    },
    {
      "cell_type": "code",
      "execution_count": 5,
      "metadata": {
        "colab": {
          "base_uri": "https://localhost:8080/"
        },
        "id": "iyVecQzj1FBd",
        "outputId": "909fa777-7555-47b7-9d0c-611fdbae95bb"
      },
      "outputs": [
        {
          "data": {
            "text/plain": [
              "1"
            ]
          },
          "execution_count": 5,
          "metadata": {},
          "output_type": "execute_result"
        }
      ],
      "source": [
        "#Total number of duplicated rows--> no duplicated row \n",
        "data.duplicated().sum()"
      ]
    },
    {
      "cell_type": "code",
      "execution_count": 6,
      "metadata": {},
      "outputs": [],
      "source": [
        "# Dropping duplicated rows\n",
        "data=data.drop_duplicates()"
      ]
    },
    {
      "cell_type": "code",
      "execution_count": 7,
      "metadata": {
        "colab": {
          "base_uri": "https://localhost:8080/"
        },
        "id": "MTnaNkYx1FBf",
        "outputId": "05c3fc6b-f2fd-47eb-cb19-948eac9a3620"
      },
      "outputs": [
        {
          "data": {
            "text/plain": [
              "False"
            ]
          },
          "execution_count": 7,
          "metadata": {},
          "output_type": "execute_result"
        }
      ],
      "source": [
        "# Checking if there are missing data\n",
        "data.isnull().values.any()"
      ]
    },
    {
      "cell_type": "code",
      "execution_count": 8,
      "metadata": {
        "id": "bIwKzIcp4UT-"
      },
      "outputs": [
        {
          "name": "stderr",
          "output_type": "stream",
          "text": [
            "23/06/09 16:59:15 WARN Utils: Your hostname, Lojins-MacBook-Pro.local resolves to a loopback address: 127.0.0.1; using 192.168.1.12 instead (on interface en0)\n",
            "23/06/09 16:59:15 WARN Utils: Set SPARK_LOCAL_IP if you need to bind to another address\n",
            "Setting default log level to \"WARN\".\n",
            "To adjust logging level use sc.setLogLevel(newLevel). For SparkR, use setLogLevel(newLevel).\n",
            "23/06/09 16:59:16 WARN NativeCodeLoader: Unable to load native-hadoop library for your platform... using builtin-java classes where applicable\n"
          ]
        }
      ],
      "source": [
        "# Creating a spark context class\n",
        "sc = SparkContext()\n",
        "\n",
        "# Creating a spark session\n",
        "spark = SparkSession \\\n",
        "    .builder \\\n",
        "    .appName(\"Python Spark DataFrames basic example\") \\\n",
        "    .config(\"spark.some.config.option\", \"some-value\") \\\n",
        "    .getOrCreate()"
      ]
    },
    {
      "cell_type": "code",
      "execution_count": 9,
      "metadata": {
        "colab": {
          "base_uri": "https://localhost:8080/"
        },
        "id": "t49Spvue64eT",
        "outputId": "49bf48ec-ca78-40f6-8eac-735bbabb2f6a"
      },
      "outputs": [
        {
          "name": "stdout",
          "output_type": "stream",
          "text": [
            "root\n",
            " |-- hotel: string (nullable = true)\n",
            " |-- is_canceled: long (nullable = true)\n",
            " |-- lead_time: long (nullable = true)\n",
            " |-- arrival_date_year: long (nullable = true)\n",
            " |-- arrival_date_month: string (nullable = true)\n",
            " |-- arrival_date_week_number: long (nullable = true)\n",
            " |-- arrival_date_day_of_month: long (nullable = true)\n",
            " |-- stays_in_weekend_nights: long (nullable = true)\n",
            " |-- stays_in_week_nights: long (nullable = true)\n",
            " |-- adults: long (nullable = true)\n",
            " |-- children: double (nullable = true)\n",
            " |-- babies: long (nullable = true)\n",
            " |-- meal: string (nullable = true)\n",
            " |-- country: string (nullable = true)\n",
            " |-- distribution_channel: string (nullable = true)\n",
            " |-- is_repeated_guest: long (nullable = true)\n",
            " |-- previous_cancellations: long (nullable = true)\n",
            " |-- previous_bookings_not_canceled: long (nullable = true)\n",
            " |-- reserved_room_type: string (nullable = true)\n",
            " |-- assigned_room_type: string (nullable = true)\n",
            " |-- booking_changes: long (nullable = true)\n",
            " |-- deposit_type: string (nullable = true)\n",
            " |-- agent: double (nullable = true)\n",
            " |-- days_in_waiting_list: long (nullable = true)\n",
            " |-- customer_type: string (nullable = true)\n",
            " |-- adr: double (nullable = true)\n",
            " |-- required_car_parking_spaces: long (nullable = true)\n",
            " |-- total_of_special_requests: long (nullable = true)\n",
            " |-- duration_of_stay: long (nullable = true)\n",
            "\n"
          ]
        }
      ],
      "source": [
        "# Loading the data into spark dataframe\n",
        "df = spark.createDataFrame(data) \n",
        "# Checking that columns were inserted correctly \n",
        "df.printSchema()"
      ]
    },
    {
      "attachments": {},
      "cell_type": "markdown",
      "metadata": {},
      "source": [
        "Promotion One"
      ]
    },
    {
      "cell_type": "code",
      "execution_count": 92,
      "metadata": {},
      "outputs": [
        {
          "name": "stdout",
          "output_type": "stream",
          "text": [
            "+------------------+-----------+-----+\n",
            "|reserved_room_type|is_canceled|count|\n",
            "+------------------+-----------+-----+\n",
            "|                 C|          1|  265|\n",
            "|                 A|          1| 3363|\n",
            "|                 H|          1|  237|\n",
            "|                 G|          1|  598|\n",
            "|                 D|          1| 1470|\n",
            "|                 F|          1|  151|\n",
            "|                 E|          1| 1096|\n",
            "+------------------+-----------+-----+\n",
            "\n"
          ]
        }
      ],
      "source": [
        "#Room A is the most room type that is cancelled alot \n",
        "query55=df.filter(F.col('is_canceled') == 1)\n",
        "query55=query55.groupBy('reserved_room_type', 'is_canceled')\\\n",
        "    .count().\\\n",
        "    show()"
      ]
    },
    {
      "cell_type": "code",
      "execution_count": 93,
      "metadata": {},
      "outputs": [
        {
          "name": "stdout",
          "output_type": "stream",
          "text": [
            "+------------------+----------------+-----+\n",
            "|reserved_room_type|duration_of_stay|count|\n",
            "+------------------+----------------+-----+\n",
            "|                 A|               7|  694|\n",
            "|                 A|               2|  481|\n",
            "|                 A|               3|  480|\n",
            "|                 A|               4|  439|\n",
            "|                 A|               1|  329|\n",
            "|                 A|               5|  324|\n",
            "|                 A|               6|  212|\n",
            "|                 A|               8|   93|\n",
            "|                 A|              10|   80|\n",
            "|                 A|              14|   73|\n",
            "|                 A|               9|   65|\n",
            "|                 A|              11|   23|\n",
            "|                 A|              12|   16|\n",
            "|                 A|              13|    8|\n",
            "|                 A|              18|    8|\n",
            "|                 A|              21|    6|\n",
            "|                 A|              25|    5|\n",
            "|                 A|               0|    5|\n",
            "|                 A|              15|    4|\n",
            "|                 A|              28|    4|\n",
            "+------------------+----------------+-----+\n",
            "only showing top 20 rows\n",
            "\n"
          ]
        }
      ],
      "source": [
        "#After calculating the duration of stay and we grouped by room type(A) we find out that \n",
        "from pyspark.sql.functions import col\n",
        "\n",
        "query_df = df.filter( (col('is_canceled') == 1)& (col('reserved_room_type') == \"A\"))\n",
        "query_df=query_df.groupBy(\"reserved_room_type\",\"duration_of_stay\").count()\n",
        "query_df=query_df.sort(\"count\",ascending=False)\n",
        "query_df.show()"
      ]
    },
    {
      "cell_type": "markdown",
      "metadata": {},
      "source": [
        "After computing this query we find out that the highest number of cancellation is during the reservation of days from  2-7 days"
      ]
    },
    {
      "cell_type": "markdown",
      "metadata": {},
      "source": [
        "Pomotion will be added for 20% if a guest reserved room type A starting from 3 days reservations "
      ]
    },
    {
      "attachments": {},
      "cell_type": "markdown",
      "metadata": {},
      "source": [
        "Promotion Two"
      ]
    },
    {
      "cell_type": "code",
      "execution_count": 94,
      "metadata": {},
      "outputs": [
        {
          "name": "stdout",
          "output_type": "stream",
          "text": [
            "The count of family who did cancel their reservation 1311\n",
            "The count of adults who did cancel their reservation 5869\n"
          ]
        }
      ],
      "source": [
        "# We assume that families are at least one children or one baby with at least one adult\n",
        "query_F = df.filter((col('adults') >= 1) &  (col('is_canceled') == 1) & ((col('children') >= 1) | (col('babies') >= 1)))\n",
        "print(\"The count of family who did cancel their reservation\",query_F.count())\n",
        "\n",
        "#  Getting adults who did  cancel their reservations\n",
        "query_A = df.filter((col('adults') >= 1) &  (col('is_canceled') == 1) & ((col('children') == 0) & (col('babies') == 0)))\n",
        "print(\"The count of adults who did cancel their reservation\",query_A.count())"
      ]
    },
    {
      "attachments": {},
      "cell_type": "markdown",
      "metadata": {},
      "source": [
        "Based on this result we will investigate more to see why Adults cancel reservations more "
      ]
    },
    {
      "cell_type": "code",
      "execution_count": 95,
      "metadata": {},
      "outputs": [
        {
          "name": "stdout",
          "output_type": "stream",
          "text": [
            "The count of adults who did cancel their reservation 5869\n",
            "+-------+-----+\n",
            "|country|count|\n",
            "+-------+-----+\n",
            "|    PRT|    4|\n",
            "|    IRL|    2|\n",
            "|    ESP|    1|\n",
            "+-------+-----+\n",
            "\n"
          ]
        }
      ],
      "source": [
        "#  Getting adults who did  cancel their reservations\n",
        "query_A = df.filter((col('adults') >= 1) &  (col('is_canceled') == 1) & ((col('children') == 0) & (col('babies') == 0)))\n",
        "print(\"The count of adults who did cancel their reservation\",query_A.count())\n",
        "\n",
        "# Going to work on Adults who has history of cancellations:\n",
        "query_A1=query_A.filter((col('previous_bookings_not_canceled') > 0))\n",
        "\n",
        "# Checking from where do these Adults cancel reseervation\n",
        "query_A1= query_A1.groupby('country')\\\n",
        ".agg(count(\"*\").alias(\"count\"))\\\n",
        ".sort(\"count\", ascending=False)\n",
        "query_A1.show()"
      ]
    },
    {
      "attachments": {},
      "cell_type": "markdown",
      "metadata": {},
      "source": [
        "Clearly, Adults from Portugal cancel a lot reservations. \n",
        "\n",
        "We are going to investigate more why the adults from Portugal cancel reservations more than others."
      ]
    },
    {
      "cell_type": "code",
      "execution_count": 96,
      "metadata": {},
      "outputs": [
        {
          "name": "stdout",
          "output_type": "stream",
          "text": [
            "The count of adults who did cancel their reservation 5869\n",
            "+-------------+-----+\n",
            "|customer_type|count|\n",
            "+-------------+-----+\n",
            "|    Transient|    4|\n",
            "+-------------+-----+\n",
            "\n"
          ]
        }
      ],
      "source": [
        "#  Getting adults who did  cancel their reservations\n",
        "query_A = df.filter((col('adults') >= 1) &  (col('is_canceled') == 1) & ((col('children') == 0) & (col('babies') == 0)))\n",
        "print(\"The count of adults who did cancel their reservation\",query_A.count())\n",
        "\n",
        "# Going to work on Adults who has history of cancellations:\n",
        "query_A1=query_A.filter((col('previous_bookings_not_canceled') > 0))\n",
        "query_A1=query_A1.filter((col('country') == 'PRT'))\n",
        "\n",
        "# Checking the customer type of these Adults who cancel reseervation\n",
        "query_A1= query_A1.groupby('customer_type')\\\n",
        ".agg(count(\"*\").alias(\"count\"))\\\n",
        ".sort(\"count\", ascending=False)\n",
        "query_A1.show()"
      ]
    },
    {
      "attachments": {},
      "cell_type": "markdown",
      "metadata": {},
      "source": [
        "Based on the results of this query, it is suggested to offer the following:\n",
        "\n",
        "1) 5% for all adults \n",
        "2) extra 5% for adults coming from Portugal \n",
        "3) extra 5% for transient adults"
      ]
    },
    {
      "attachments": {},
      "cell_type": "markdown",
      "metadata": {},
      "source": [
        "Promotion Three"
      ]
    },
    {
      "cell_type": "code",
      "execution_count": 97,
      "metadata": {},
      "outputs": [
        {
          "name": "stdout",
          "output_type": "stream",
          "text": [
            "+----------------------+-----------------+-----+\n",
            "|previous_cancellations|is_repeated_guest|count|\n",
            "+----------------------+-----------------+-----+\n",
            "|                     0|                0| 6930|\n",
            "|                     0|                1|    3|\n",
            "|                     1|                0|  203|\n",
            "|                     1|                1|   22|\n",
            "|                     2|                0|   12|\n",
            "|                     2|                1|    1|\n",
            "|                     3|                0|    4|\n",
            "|                    14|                0|    1|\n",
            "|                    24|                0|    1|\n",
            "|                    25|                0|    2|\n",
            "|                    26|                0|    1|\n",
            "+----------------------+-----------------+-----+\n",
            "\n"
          ]
        }
      ],
      "source": [
        "query_df3 = df.filter((col('is_canceled') == 1))\n",
        "query_df3=query_df3.groupBy('previous_cancellations', 'is_repeated_guest')\\\n",
        "    .count()\n",
        "query_df3=query_df3.sort(\"previous_cancellations\")\n",
        "query_df3.show() \n",
        "# Show the query results\n"
      ]
    },
    {
      "attachments": {},
      "cell_type": "markdown",
      "metadata": {},
      "source": [
        "As we filter the query to have all the people who cancelled there reservations , we find out that people that aren't repeated guests are the most guests that cancelled the reservation.\n",
        "So to enhance the number of customers' reservations we will give this offer to the people who didn't cancell before (previous_cancellations=0) and they are repeated guest . "
      ]
    },
    {
      "attachments": {},
      "cell_type": "markdown",
      "metadata": {},
      "source": [
        "The promotion will be :**two** days extra  with no fees applied "
      ]
    },
    {
      "attachments": {},
      "cell_type": "markdown",
      "metadata": {},
      "source": [
        "In this Query, my target is to increase the number of regular customers , so we can assure that we will gain customer attraction"
      ]
    },
    {
      "attachments": {},
      "cell_type": "markdown",
      "metadata": {},
      "source": [
        "Promotion Four"
      ]
    },
    {
      "cell_type": "code",
      "execution_count": 98,
      "metadata": {},
      "outputs": [
        {
          "name": "stdout",
          "output_type": "stream",
          "text": [
            "+-----------+--------------------+-----+\n",
            "|is_canceled|days_in_waiting_list|count|\n",
            "+-----------+--------------------+-----+\n",
            "|          0|                   0|19900|\n",
            "|          0|                   1|    2|\n",
            "|          0|                   2|    1|\n",
            "|          0|                   4|    1|\n",
            "|          0|                   5|    1|\n",
            "|          0|                   6|    4|\n",
            "|          0|                  11|    1|\n",
            "|          0|                  14|    4|\n",
            "|          0|                  18|    1|\n",
            "|          0|                  22|    1|\n",
            "|          0|                  34|    2|\n",
            "|          0|                  37|    1|\n",
            "|          0|                  43|    2|\n",
            "|          0|                  44|    1|\n",
            "|          0|                  50|    1|\n",
            "|          0|                  52|    1|\n",
            "|          0|                  60|    4|\n",
            "|          0|                  61|    2|\n",
            "|          0|                  64|    3|\n",
            "|          0|                  65|    4|\n",
            "+-----------+--------------------+-----+\n",
            "only showing top 20 rows\n",
            "\n"
          ]
        }
      ],
      "source": [
        "#Here i find out that the ones who reserved alotwithout any cancellation aren't put in the waiting list \n",
        "query77=df.filter(col('is_canceled') == 0)\n",
        "query77=query77.groupBy('is_canceled', 'days_in_waiting_list')\\\n",
        "    .count()\n",
        "query77=query77.sort(\"days_in_waiting_list\")\n",
        "query77.show()"
      ]
    },
    {
      "cell_type": "markdown",
      "metadata": {},
      "source": [
        "From the previous Query we will apply promotion for the guests in the waiting list so it will be : a complimentary upgrade to a higher category room . This can include better views, more space, enhanced amenities, or additional features like a private balcony or jacuzzi."
      ]
    }
  ],
  "metadata": {
    "colab": {
      "provenance": []
    },
    "kernelspec": {
      "display_name": "Python 3",
      "language": "python",
      "name": "python3"
    },
    "language_info": {
      "codemirror_mode": {
        "name": "ipython",
        "version": 3
      },
      "file_extension": ".py",
      "mimetype": "text/x-python",
      "name": "python",
      "nbconvert_exporter": "python",
      "pygments_lexer": "ipython3",
      "version": "3.9.6"
    },
    "orig_nbformat": 4
  },
  "nbformat": 4,
  "nbformat_minor": 0
}
