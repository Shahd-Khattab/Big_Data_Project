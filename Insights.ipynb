{
  "cells": [
    {
      "cell_type": "code",
      "execution_count": 1,
      "metadata": {
        "colab": {
          "base_uri": "https://localhost:8080/"
        },
        "id": "UCXO2Pws1FBI",
        "outputId": "1376eb3b-e645-4b1e-bb92-e59b1c90ff8b"
      },
      "outputs": [],
      "source": [
        "# Importing Libraries:\n",
        "import pandas as pd\n",
        "import numpy as np \n",
        "import matplotlib.pyplot as plt\n",
        "import seaborn as sns\n",
        "import findspark\n",
        "from pyspark import SparkContext, SparkConf\n",
        "from pyspark.sql import SparkSession\n",
        "from pyspark.sql.functions import lit\n",
        "from pyspark.sql.functions import *\n",
        "import findspark\n",
        "from pyspark.sql.functions import when\n",
        "import matplotlib.pyplot as plt\n",
        "from pyspark.sql.functions import col\n",
        "import pyspark.sql.functions as F\n",
        "from pyspark.sql.functions import *\n",
        "\n",
        "findspark.init()"
      ]
    },
    {
      "cell_type": "code",
      "execution_count": 2,
      "metadata": {
        "colab": {
          "base_uri": "https://localhost:8080/",
          "height": 678
        },
        "id": "Iz5oKZQU1FBV",
        "outputId": "afd1234d-bab5-4d0c-b964-3d2383796952"
      },
      "outputs": [
        {
          "data": {
            "text/html": [
              "<div>\n",
              "<style scoped>\n",
              "    .dataframe tbody tr th:only-of-type {\n",
              "        vertical-align: middle;\n",
              "    }\n",
              "\n",
              "    .dataframe tbody tr th {\n",
              "        vertical-align: top;\n",
              "    }\n",
              "\n",
              "    .dataframe thead th {\n",
              "        text-align: right;\n",
              "    }\n",
              "</style>\n",
              "<table border=\"1\" class=\"dataframe\">\n",
              "  <thead>\n",
              "    <tr style=\"text-align: right;\">\n",
              "      <th></th>\n",
              "      <th>hotel</th>\n",
              "      <th>is_canceled</th>\n",
              "      <th>lead_time</th>\n",
              "      <th>arrival_date_year</th>\n",
              "      <th>arrival_date_month</th>\n",
              "      <th>arrival_date_week_number</th>\n",
              "      <th>arrival_date_day_of_month</th>\n",
              "      <th>stays_in_weekend_nights</th>\n",
              "      <th>stays_in_week_nights</th>\n",
              "      <th>adults</th>\n",
              "      <th>...</th>\n",
              "      <th>assigned_room_type</th>\n",
              "      <th>booking_changes</th>\n",
              "      <th>deposit_type</th>\n",
              "      <th>agent</th>\n",
              "      <th>days_in_waiting_list</th>\n",
              "      <th>customer_type</th>\n",
              "      <th>adr</th>\n",
              "      <th>required_car_parking_spaces</th>\n",
              "      <th>total_of_special_requests</th>\n",
              "      <th>duration_of_stay</th>\n",
              "    </tr>\n",
              "  </thead>\n",
              "  <tbody>\n",
              "    <tr>\n",
              "      <th>0</th>\n",
              "      <td>Renaissance Hotel</td>\n",
              "      <td>0</td>\n",
              "      <td>13</td>\n",
              "      <td>2018</td>\n",
              "      <td>July</td>\n",
              "      <td>27</td>\n",
              "      <td>1</td>\n",
              "      <td>0</td>\n",
              "      <td>1</td>\n",
              "      <td>1</td>\n",
              "      <td>...</td>\n",
              "      <td>A</td>\n",
              "      <td>0</td>\n",
              "      <td>No Deposit</td>\n",
              "      <td>304.0</td>\n",
              "      <td>0</td>\n",
              "      <td>Transient</td>\n",
              "      <td>75.00</td>\n",
              "      <td>0</td>\n",
              "      <td>0</td>\n",
              "      <td>1</td>\n",
              "    </tr>\n",
              "    <tr>\n",
              "      <th>1</th>\n",
              "      <td>Renaissance Hotel</td>\n",
              "      <td>0</td>\n",
              "      <td>14</td>\n",
              "      <td>2018</td>\n",
              "      <td>July</td>\n",
              "      <td>27</td>\n",
              "      <td>1</td>\n",
              "      <td>0</td>\n",
              "      <td>2</td>\n",
              "      <td>2</td>\n",
              "      <td>...</td>\n",
              "      <td>A</td>\n",
              "      <td>0</td>\n",
              "      <td>No Deposit</td>\n",
              "      <td>240.0</td>\n",
              "      <td>0</td>\n",
              "      <td>Transient</td>\n",
              "      <td>98.00</td>\n",
              "      <td>0</td>\n",
              "      <td>1</td>\n",
              "      <td>2</td>\n",
              "    </tr>\n",
              "    <tr>\n",
              "      <th>2</th>\n",
              "      <td>Renaissance Hotel</td>\n",
              "      <td>0</td>\n",
              "      <td>9</td>\n",
              "      <td>2018</td>\n",
              "      <td>July</td>\n",
              "      <td>27</td>\n",
              "      <td>1</td>\n",
              "      <td>0</td>\n",
              "      <td>2</td>\n",
              "      <td>2</td>\n",
              "      <td>...</td>\n",
              "      <td>C</td>\n",
              "      <td>0</td>\n",
              "      <td>No Deposit</td>\n",
              "      <td>303.0</td>\n",
              "      <td>0</td>\n",
              "      <td>Transient</td>\n",
              "      <td>103.00</td>\n",
              "      <td>0</td>\n",
              "      <td>1</td>\n",
              "      <td>2</td>\n",
              "    </tr>\n",
              "    <tr>\n",
              "      <th>3</th>\n",
              "      <td>Renaissance Hotel</td>\n",
              "      <td>1</td>\n",
              "      <td>85</td>\n",
              "      <td>2018</td>\n",
              "      <td>July</td>\n",
              "      <td>27</td>\n",
              "      <td>1</td>\n",
              "      <td>0</td>\n",
              "      <td>3</td>\n",
              "      <td>2</td>\n",
              "      <td>...</td>\n",
              "      <td>A</td>\n",
              "      <td>0</td>\n",
              "      <td>No Deposit</td>\n",
              "      <td>240.0</td>\n",
              "      <td>0</td>\n",
              "      <td>Transient</td>\n",
              "      <td>82.00</td>\n",
              "      <td>0</td>\n",
              "      <td>1</td>\n",
              "      <td>3</td>\n",
              "    </tr>\n",
              "    <tr>\n",
              "      <th>4</th>\n",
              "      <td>Renaissance Hotel</td>\n",
              "      <td>1</td>\n",
              "      <td>75</td>\n",
              "      <td>2018</td>\n",
              "      <td>July</td>\n",
              "      <td>27</td>\n",
              "      <td>1</td>\n",
              "      <td>0</td>\n",
              "      <td>3</td>\n",
              "      <td>2</td>\n",
              "      <td>...</td>\n",
              "      <td>D</td>\n",
              "      <td>0</td>\n",
              "      <td>No Deposit</td>\n",
              "      <td>15.0</td>\n",
              "      <td>0</td>\n",
              "      <td>Transient</td>\n",
              "      <td>105.50</td>\n",
              "      <td>0</td>\n",
              "      <td>0</td>\n",
              "      <td>3</td>\n",
              "    </tr>\n",
              "    <tr>\n",
              "      <th>...</th>\n",
              "      <td>...</td>\n",
              "      <td>...</td>\n",
              "      <td>...</td>\n",
              "      <td>...</td>\n",
              "      <td>...</td>\n",
              "      <td>...</td>\n",
              "      <td>...</td>\n",
              "      <td>...</td>\n",
              "      <td>...</td>\n",
              "      <td>...</td>\n",
              "      <td>...</td>\n",
              "      <td>...</td>\n",
              "      <td>...</td>\n",
              "      <td>...</td>\n",
              "      <td>...</td>\n",
              "      <td>...</td>\n",
              "      <td>...</td>\n",
              "      <td>...</td>\n",
              "      <td>...</td>\n",
              "      <td>...</td>\n",
              "      <td>...</td>\n",
              "    </tr>\n",
              "    <tr>\n",
              "      <th>74844</th>\n",
              "      <td>JW Marriott Hotel</td>\n",
              "      <td>0</td>\n",
              "      <td>23</td>\n",
              "      <td>2017</td>\n",
              "      <td>August</td>\n",
              "      <td>35</td>\n",
              "      <td>30</td>\n",
              "      <td>2</td>\n",
              "      <td>5</td>\n",
              "      <td>2</td>\n",
              "      <td>...</td>\n",
              "      <td>A</td>\n",
              "      <td>0</td>\n",
              "      <td>No Deposit</td>\n",
              "      <td>394.0</td>\n",
              "      <td>0</td>\n",
              "      <td>Transient</td>\n",
              "      <td>96.14</td>\n",
              "      <td>0</td>\n",
              "      <td>0</td>\n",
              "      <td>7</td>\n",
              "    </tr>\n",
              "    <tr>\n",
              "      <th>74845</th>\n",
              "      <td>JW Marriott Hotel</td>\n",
              "      <td>0</td>\n",
              "      <td>102</td>\n",
              "      <td>2017</td>\n",
              "      <td>August</td>\n",
              "      <td>35</td>\n",
              "      <td>31</td>\n",
              "      <td>2</td>\n",
              "      <td>5</td>\n",
              "      <td>3</td>\n",
              "      <td>...</td>\n",
              "      <td>E</td>\n",
              "      <td>0</td>\n",
              "      <td>No Deposit</td>\n",
              "      <td>9.0</td>\n",
              "      <td>0</td>\n",
              "      <td>Transient</td>\n",
              "      <td>225.43</td>\n",
              "      <td>0</td>\n",
              "      <td>2</td>\n",
              "      <td>7</td>\n",
              "    </tr>\n",
              "    <tr>\n",
              "      <th>74846</th>\n",
              "      <td>JW Marriott Hotel</td>\n",
              "      <td>0</td>\n",
              "      <td>34</td>\n",
              "      <td>2017</td>\n",
              "      <td>August</td>\n",
              "      <td>35</td>\n",
              "      <td>31</td>\n",
              "      <td>2</td>\n",
              "      <td>5</td>\n",
              "      <td>2</td>\n",
              "      <td>...</td>\n",
              "      <td>D</td>\n",
              "      <td>0</td>\n",
              "      <td>No Deposit</td>\n",
              "      <td>9.0</td>\n",
              "      <td>0</td>\n",
              "      <td>Transient</td>\n",
              "      <td>157.71</td>\n",
              "      <td>0</td>\n",
              "      <td>4</td>\n",
              "      <td>7</td>\n",
              "    </tr>\n",
              "    <tr>\n",
              "      <th>74847</th>\n",
              "      <td>JW Marriott Hotel</td>\n",
              "      <td>0</td>\n",
              "      <td>109</td>\n",
              "      <td>2017</td>\n",
              "      <td>August</td>\n",
              "      <td>35</td>\n",
              "      <td>31</td>\n",
              "      <td>2</td>\n",
              "      <td>5</td>\n",
              "      <td>2</td>\n",
              "      <td>...</td>\n",
              "      <td>A</td>\n",
              "      <td>0</td>\n",
              "      <td>No Deposit</td>\n",
              "      <td>89.0</td>\n",
              "      <td>0</td>\n",
              "      <td>Transient</td>\n",
              "      <td>104.40</td>\n",
              "      <td>0</td>\n",
              "      <td>0</td>\n",
              "      <td>7</td>\n",
              "    </tr>\n",
              "    <tr>\n",
              "      <th>74848</th>\n",
              "      <td>JW Marriott Hotel</td>\n",
              "      <td>0</td>\n",
              "      <td>205</td>\n",
              "      <td>2017</td>\n",
              "      <td>August</td>\n",
              "      <td>35</td>\n",
              "      <td>29</td>\n",
              "      <td>2</td>\n",
              "      <td>7</td>\n",
              "      <td>2</td>\n",
              "      <td>...</td>\n",
              "      <td>A</td>\n",
              "      <td>0</td>\n",
              "      <td>No Deposit</td>\n",
              "      <td>9.0</td>\n",
              "      <td>0</td>\n",
              "      <td>Transient</td>\n",
              "      <td>151.20</td>\n",
              "      <td>0</td>\n",
              "      <td>2</td>\n",
              "      <td>9</td>\n",
              "    </tr>\n",
              "  </tbody>\n",
              "</table>\n",
              "<p>74849 rows × 29 columns</p>\n",
              "</div>"
            ],
            "text/plain": [
              "                   hotel  is_canceled  lead_time  arrival_date_year  \\\n",
              "0      Renaissance Hotel            0         13               2018   \n",
              "1      Renaissance Hotel            0         14               2018   \n",
              "2      Renaissance Hotel            0          9               2018   \n",
              "3      Renaissance Hotel            1         85               2018   \n",
              "4      Renaissance Hotel            1         75               2018   \n",
              "...                  ...          ...        ...                ...   \n",
              "74844  JW Marriott Hotel            0         23               2017   \n",
              "74845  JW Marriott Hotel            0        102               2017   \n",
              "74846  JW Marriott Hotel            0         34               2017   \n",
              "74847  JW Marriott Hotel            0        109               2017   \n",
              "74848  JW Marriott Hotel            0        205               2017   \n",
              "\n",
              "      arrival_date_month  arrival_date_week_number  arrival_date_day_of_month  \\\n",
              "0                   July                        27                          1   \n",
              "1                   July                        27                          1   \n",
              "2                   July                        27                          1   \n",
              "3                   July                        27                          1   \n",
              "4                   July                        27                          1   \n",
              "...                  ...                       ...                        ...   \n",
              "74844             August                        35                         30   \n",
              "74845             August                        35                         31   \n",
              "74846             August                        35                         31   \n",
              "74847             August                        35                         31   \n",
              "74848             August                        35                         29   \n",
              "\n",
              "       stays_in_weekend_nights  stays_in_week_nights  adults  ...  \\\n",
              "0                            0                     1       1  ...   \n",
              "1                            0                     2       2  ...   \n",
              "2                            0                     2       2  ...   \n",
              "3                            0                     3       2  ...   \n",
              "4                            0                     3       2  ...   \n",
              "...                        ...                   ...     ...  ...   \n",
              "74844                        2                     5       2  ...   \n",
              "74845                        2                     5       3  ...   \n",
              "74846                        2                     5       2  ...   \n",
              "74847                        2                     5       2  ...   \n",
              "74848                        2                     7       2  ...   \n",
              "\n",
              "       assigned_room_type  booking_changes deposit_type  agent  \\\n",
              "0                       A                0   No Deposit  304.0   \n",
              "1                       A                0   No Deposit  240.0   \n",
              "2                       C                0   No Deposit  303.0   \n",
              "3                       A                0   No Deposit  240.0   \n",
              "4                       D                0   No Deposit   15.0   \n",
              "...                   ...              ...          ...    ...   \n",
              "74844                   A                0   No Deposit  394.0   \n",
              "74845                   E                0   No Deposit    9.0   \n",
              "74846                   D                0   No Deposit    9.0   \n",
              "74847                   A                0   No Deposit   89.0   \n",
              "74848                   A                0   No Deposit    9.0   \n",
              "\n",
              "      days_in_waiting_list  customer_type     adr  \\\n",
              "0                        0      Transient   75.00   \n",
              "1                        0      Transient   98.00   \n",
              "2                        0      Transient  103.00   \n",
              "3                        0      Transient   82.00   \n",
              "4                        0      Transient  105.50   \n",
              "...                    ...            ...     ...   \n",
              "74844                    0      Transient   96.14   \n",
              "74845                    0      Transient  225.43   \n",
              "74846                    0      Transient  157.71   \n",
              "74847                    0      Transient  104.40   \n",
              "74848                    0      Transient  151.20   \n",
              "\n",
              "       required_car_parking_spaces total_of_special_requests duration_of_stay  \n",
              "0                                0                         0                1  \n",
              "1                                0                         1                2  \n",
              "2                                0                         1                2  \n",
              "3                                0                         1                3  \n",
              "4                                0                         0                3  \n",
              "...                            ...                       ...              ...  \n",
              "74844                            0                         0                7  \n",
              "74845                            0                         2                7  \n",
              "74846                            0                         4                7  \n",
              "74847                            0                         0                7  \n",
              "74848                            0                         2                9  \n",
              "\n",
              "[74849 rows x 29 columns]"
            ]
          },
          "execution_count": 2,
          "metadata": {},
          "output_type": "execute_result"
        }
      ],
      "source": [
        "# Reading the data\n",
        "data = pd.read_csv('cleaned.csv', encoding= 'unicode_escape') \n",
        "data=data.drop(['Unnamed: 0'], axis=1)\n",
        "data"
      ]
    },
    {
      "cell_type": "code",
      "execution_count": 3,
      "metadata": {
        "id": "gVZ6tCsn1FBZ"
      },
      "outputs": [],
      "source": [
        "# Number of rows and columns in the data set\n",
        "rows,cols=data.shape"
      ]
    },
    {
      "cell_type": "code",
      "execution_count": 4,
      "metadata": {
        "colab": {
          "base_uri": "https://localhost:8080/"
        },
        "id": "XuZELSS-1FBb",
        "outputId": "65b4d412-a677-4c9c-b6d0-ca81cfd83c49"
      },
      "outputs": [
        {
          "name": "stdout",
          "output_type": "stream",
          "text": [
            "hotel\n",
            "is_canceled\n",
            "lead_time\n",
            "arrival_date_year\n",
            "arrival_date_month\n",
            "arrival_date_week_number\n",
            "arrival_date_day_of_month\n",
            "stays_in_weekend_nights\n",
            "stays_in_week_nights\n",
            "adults\n",
            "children\n",
            "babies\n",
            "meal\n",
            "country\n",
            "distribution_channel\n",
            "is_repeated_guest\n",
            "previous_cancellations\n",
            "previous_bookings_not_canceled\n",
            "reserved_room_type\n",
            "assigned_room_type\n",
            "booking_changes\n",
            "deposit_type\n",
            "agent\n",
            "days_in_waiting_list\n",
            "customer_type\n",
            "adr\n",
            "required_car_parking_spaces\n",
            "total_of_special_requests\n",
            "duration_of_stay\n"
          ]
        }
      ],
      "source": [
        "# Names of all the column\n",
        "for col in data.columns:\n",
        "    print(col)"
      ]
    },
    {
      "cell_type": "code",
      "execution_count": 5,
      "metadata": {
        "colab": {
          "base_uri": "https://localhost:8080/"
        },
        "id": "iyVecQzj1FBd",
        "outputId": "909fa777-7555-47b7-9d0c-611fdbae95bb"
      },
      "outputs": [
        {
          "data": {
            "text/plain": [
              "3"
            ]
          },
          "execution_count": 5,
          "metadata": {},
          "output_type": "execute_result"
        }
      ],
      "source": [
        "#Total number of duplicated rows--> no duplicated row \n",
        "data.duplicated().sum()"
      ]
    },
    {
      "cell_type": "code",
      "execution_count": 6,
      "metadata": {},
      "outputs": [],
      "source": [
        "# Dropping duplicated rows\n",
        "data=data.drop_duplicates()"
      ]
    },
    {
      "cell_type": "code",
      "execution_count": 7,
      "metadata": {
        "colab": {
          "base_uri": "https://localhost:8080/"
        },
        "id": "MTnaNkYx1FBf",
        "outputId": "05c3fc6b-f2fd-47eb-cb19-948eac9a3620"
      },
      "outputs": [
        {
          "data": {
            "text/plain": [
              "False"
            ]
          },
          "execution_count": 7,
          "metadata": {},
          "output_type": "execute_result"
        }
      ],
      "source": [
        "# Checking if there are missing data\n",
        "data.isnull().values.any()"
      ]
    },
    {
      "cell_type": "code",
      "execution_count": 8,
      "metadata": {
        "id": "bIwKzIcp4UT-"
      },
      "outputs": [
        {
          "name": "stderr",
          "output_type": "stream",
          "text": [
            "23/06/08 21:28:37 WARN Utils: Your hostname, Lojins-MacBook-Pro.local resolves to a loopback address: 127.0.0.1; using 192.168.1.12 instead (on interface en0)\n",
            "23/06/08 21:28:37 WARN Utils: Set SPARK_LOCAL_IP if you need to bind to another address\n",
            "Setting default log level to \"WARN\".\n",
            "To adjust logging level use sc.setLogLevel(newLevel). For SparkR, use setLogLevel(newLevel).\n",
            "23/06/08 21:28:38 WARN NativeCodeLoader: Unable to load native-hadoop library for your platform... using builtin-java classes where applicable\n"
          ]
        }
      ],
      "source": [
        "# Creating a spark context class\n",
        "sc = SparkContext()\n",
        "\n",
        "# Creating a spark session\n",
        "spark = SparkSession \\\n",
        "    .builder \\\n",
        "    .appName(\"Python Spark DataFrames basic example\") \\\n",
        "    .config(\"spark.some.config.option\", \"some-value\") \\\n",
        "    .getOrCreate()"
      ]
    },
    {
      "cell_type": "code",
      "execution_count": 9,
      "metadata": {
        "colab": {
          "base_uri": "https://localhost:8080/"
        },
        "id": "t49Spvue64eT",
        "outputId": "49bf48ec-ca78-40f6-8eac-735bbabb2f6a"
      },
      "outputs": [
        {
          "name": "stdout",
          "output_type": "stream",
          "text": [
            "root\n",
            " |-- hotel: string (nullable = true)\n",
            " |-- is_canceled: long (nullable = true)\n",
            " |-- lead_time: long (nullable = true)\n",
            " |-- arrival_date_year: long (nullable = true)\n",
            " |-- arrival_date_month: string (nullable = true)\n",
            " |-- arrival_date_week_number: long (nullable = true)\n",
            " |-- arrival_date_day_of_month: long (nullable = true)\n",
            " |-- stays_in_weekend_nights: long (nullable = true)\n",
            " |-- stays_in_week_nights: long (nullable = true)\n",
            " |-- adults: long (nullable = true)\n",
            " |-- children: double (nullable = true)\n",
            " |-- babies: long (nullable = true)\n",
            " |-- meal: string (nullable = true)\n",
            " |-- country: string (nullable = true)\n",
            " |-- distribution_channel: string (nullable = true)\n",
            " |-- is_repeated_guest: long (nullable = true)\n",
            " |-- previous_cancellations: long (nullable = true)\n",
            " |-- previous_bookings_not_canceled: long (nullable = true)\n",
            " |-- reserved_room_type: string (nullable = true)\n",
            " |-- assigned_room_type: string (nullable = true)\n",
            " |-- booking_changes: long (nullable = true)\n",
            " |-- deposit_type: string (nullable = true)\n",
            " |-- agent: double (nullable = true)\n",
            " |-- days_in_waiting_list: long (nullable = true)\n",
            " |-- customer_type: string (nullable = true)\n",
            " |-- adr: double (nullable = true)\n",
            " |-- required_car_parking_spaces: long (nullable = true)\n",
            " |-- total_of_special_requests: long (nullable = true)\n",
            " |-- duration_of_stay: long (nullable = true)\n",
            "\n"
          ]
        }
      ],
      "source": [
        "# Loading the data into spark dataframe\n",
        "df1 = spark.createDataFrame(data) \n",
        "# Checking that columns were inserted correctly \n",
        "df1.printSchema()"
      ]
    },
    {
      "attachments": {},
      "cell_type": "markdown",
      "metadata": {},
      "source": [
        "Insight One"
      ]
    },
    {
      "cell_type": "code",
      "execution_count": 10,
      "metadata": {
        "colab": {
          "base_uri": "https://localhost:8080/"
        },
        "id": "rkVsCn8WT7nA",
        "outputId": "8c62326a-749f-457d-c7d0-97963be1db80"
      },
      "outputs": [
        {
          "name": "stderr",
          "output_type": "stream",
          "text": [
            "23/06/08 21:28:45 WARN package: Truncated the string representation of a plan since it was too large. This behavior can be adjusted by setting 'spark.sql.debug.maxToStringFields'.\n",
            "                                                                                \r"
          ]
        },
        {
          "name": "stdout",
          "output_type": "stream",
          "text": [
            "+------------------+----------------+-----+-----+\n",
            "|arrival_date_month|duration_of_stay|count|total|\n",
            "+------------------+----------------+-----+-----+\n",
            "|          November|              12|   10|  120|\n",
            "|             April|               0|   22|    0|\n",
            "|              June|              21|    4|   84|\n",
            "|              July|              13|   16|  208|\n",
            "|           October|              17|    1|   17|\n",
            "|          November|               7|  267| 1869|\n",
            "|          November|               4|  739| 2956|\n",
            "|          December|              19|    6|  114|\n",
            "|          December|              10|   37|  370|\n",
            "|           January|              14|   32|  448|\n",
            "|          November|               0|   58|    0|\n",
            "|               May|              10|   86|  860|\n",
            "|          December|              18|    4|   72|\n",
            "|           October|              22|    4|   88|\n",
            "|              June|               3| 1580| 4740|\n",
            "|         September|               1|  913|  913|\n",
            "|           October|              10|   33|  330|\n",
            "|              June|               6|  259| 1554|\n",
            "|            August|              16|    4|   64|\n",
            "|               May|              18|    3|   54|\n",
            "+------------------+----------------+-----+-----+\n",
            "only showing top 20 rows\n",
            "\n",
            "+------------------+----------+\n",
            "|arrival_date_month|sum(total)|\n",
            "+------------------+----------+\n",
            "|              July|     39523|\n",
            "|          November|     14675|\n",
            "|          February|     17070|\n",
            "|           January|     12707|\n",
            "|             March|     22330|\n",
            "|           October|     19485|\n",
            "|               May|     26228|\n",
            "|            August|     43353|\n",
            "|             April|     24599|\n",
            "|              June|     28061|\n",
            "|          December|     14964|\n",
            "|         September|     22900|\n",
            "+------------------+----------+\n",
            "\n"
          ]
        }
      ],
      "source": [
        "# Season with most guests\n",
        "durationOfStay = df1.groupby(\"arrival_date_month\", \"duration_of_stay\")\\\n",
        ".agg(count(\"*\").alias(\"count\"))\\\n",
        ".withColumn(\"total\",  (F.col(\"count\"))* F.col(\"duration_of_stay\") )\n",
        "durationOfStay.show()\n",
        "season = durationOfStay.groupby(\"total\", \"arrival_date_month\").count()\n",
        "season.groupBy(\"arrival_date_month\").sum(\"total\").show()"
      ]
    },
    {
      "cell_type": "code",
      "execution_count": 11,
      "metadata": {
        "colab": {
          "base_uri": "https://localhost:8080/"
        },
        "id": "Q7IZ9V5fWiFk",
        "outputId": "f7097116-294e-4e4b-f12f-a2d8eb971306"
      },
      "outputs": [
        {
          "name": "stdout",
          "output_type": "stream",
          "text": [
            "+------+----------+\n",
            "|season|sum(total)|\n",
            "+------+----------+\n",
            "|Spring|     73157|\n",
            "|Summer|    110937|\n",
            "|Autumn|     57060|\n",
            "|Winter|     44741|\n",
            "+------+----------+\n",
            "\n"
          ]
        }
      ],
      "source": [
        "# Define the mapping of months to seasons\n",
        "\n",
        "#Autumn - September, October, November.\n",
        "#Winter - December, January and February.\n",
        "#Spring - March, April and May. \n",
        "#Summer - June, July and August\n",
        "from pyspark.sql.functions import when, col, sum\n",
        "\n",
        "season_mapping = {\n",
        "    \"Autumn\": [\"September\", \"October\", \"November\"],\n",
        "    \"Winter\": [\"December\", \"January\", \"February\"],\n",
        "    \"Spring\": [\"March\", \"April\", \"May\"],\n",
        "    \"Summer\": [\"June\", \"July\", \"August\"]\n",
        "}\n",
        "\n",
        "# Apply the mapping and calculate the sum for each season\n",
        "df_transformed = season.withColumn(\"season\",\n",
        "                               when(col(\"arrival_date_month\").isin(season_mapping[\"Autumn\"]), \"Autumn\")\n",
        "                               .when(col(\"arrival_date_month\").isin(season_mapping[\"Winter\"]), \"Winter\")\n",
        "                               .when(col(\"arrival_date_month\").isin(season_mapping[\"Spring\"]), \"Spring\")\n",
        "                               .when(col(\"arrival_date_month\").isin(season_mapping[\"Summer\"]), \"Summer\")\n",
        "                               .otherwise(\"Unknown\")\n",
        "                               ) \\\n",
        "                   .groupBy(\"season\") \\\n",
        "                   .sum(\"total\")\n",
        "\n",
        "# Show the transformed DataFrame\n",
        "df_transformed.show()"
      ]
    },
    {
      "cell_type": "code",
      "execution_count": 12,
      "metadata": {
        "colab": {
          "base_uri": "https://localhost:8080/",
          "height": 531
        },
        "id": "d9geODfufzVQ",
        "outputId": "2542a3bd-f8cc-423f-ce5b-b81340416733"
      },
      "outputs": [
        {
          "data": {
            "image/png": "[encoded data removed]",
            "text/plain": [
              "<Figure size 1400x600 with 1 Axes>"
            ]
          },
          "metadata": {},
          "output_type": "display_data"
        },
        {
          "name": "stdout",
          "output_type": "stream",
          "text": [
            "From the plot above, we can say that Summer is the most season of attraction\n"
          ]
        }
      ],
      "source": [
        "# Collect the data from the DataFrame\n",
        "season = [row['season'] for row in df_transformed.select(col('season')).collect()]\n",
        "totals = [row['sum(total)'] for row in df_transformed.select(col('sum(total)')).collect()]\n",
        "\n",
        "# Plotting the data\n",
        "plt.figure(figsize=(14, 6))\n",
        "plt.bar(season, totals)\n",
        "plt.xlabel(\"Season\")\n",
        "plt.ylabel(\"Total\")\n",
        "plt.title(\"Total Sum of Guests in Each Season\")\n",
        "plt.show()\n",
        "\n",
        "# Converting the results to a Pandas DataFrame for visualization\n",
        "seasonDf = df_transformed.toPandas()\n",
        "seasonDf\n",
        "df2=seasonDf.loc[seasonDf['sum(total)'].idxmax()]\n",
        "source= df2['season']\n",
        "print('From the plot above, we can say that', source, 'is the most season of attraction')"
      ]
    },
    {
      "attachments": {},
      "cell_type": "markdown",
      "metadata": {},
      "source": [
        "Insight Two"
      ]
    },
    {
      "cell_type": "code",
      "execution_count": 13,
      "metadata": {
        "colab": {
          "base_uri": "https://localhost:8080/"
        },
        "id": "_2sltu_pggcH",
        "outputId": "376da9e0-a807-4493-e2f7-588bc34c5b3b"
      },
      "outputs": [
        {
          "name": "stdout",
          "output_type": "stream",
          "text": [
            "+-----------------+-----------+-----+\n",
            "|            hotel|is_canceled|count|\n",
            "+-----------------+-----------+-----+\n",
            "|Renaissance Hotel|          1| 7180|\n",
            "|Renaissance Hotel|          0|19990|\n",
            "|JW Marriott Hotel|          1|15057|\n",
            "|JW Marriott Hotel|          0|32619|\n",
            "+-----------------+-----------+-----+\n",
            "\n",
            "+-----------------+-----------+-----+\n",
            "|            hotel|is_canceled|count|\n",
            "+-----------------+-----------+-----+\n",
            "|Renaissance Hotel|  Cancelled| 7180|\n",
            "|Renaissance Hotel|   Reserved|19990|\n",
            "|JW Marriott Hotel|  Cancelled|15057|\n",
            "|JW Marriott Hotel|   Reserved|32619|\n",
            "+-----------------+-----------+-----+\n",
            "\n"
          ]
        }
      ],
      "source": [
        "#eh aktar sana hasal feeha cancellation and trhis will be aktar sana hasal feeha khosara lelhotel\n",
        "Cancellation=df1.groupBy(\"hotel\",\"is_canceled\").count()\n",
        "Cancellation.show()\n",
        "Cancellation = Cancellation.withColumn(\"is_canceled\", when(Cancellation.is_canceled == \"0\",\"Reserved\") \\\n",
        "      .when(Cancellation.is_canceled == \"1\",\"Cancelled\") \\\n",
        "      .otherwise(Cancellation.is_canceled))\n",
        "Cancellation.show()"
      ]
    },
    {
      "cell_type": "code",
      "execution_count": 14,
      "metadata": {
        "colab": {
          "base_uri": "https://localhost:8080/",
          "height": 452
        },
        "id": "Q1HCdekgsZVy",
        "outputId": "90a277ea-5b56-4e89-d2ea-b6d419b7c3e6"
      },
      "outputs": [
        {
          "data": {
            "image/png": "[encoded data removed]",
            "text/plain": [
              "<Figure size 800x600 with 1 Axes>"
            ]
          },
          "metadata": {},
          "output_type": "display_data"
        },
        {
          "name": "stdout",
          "output_type": "stream",
          "text": [
            "Based on the results of the query and the graph above the Renaissance Hotel is with the highest reservation rate 73.6 and lowest cancellation rate 26.4\n"
          ]
        }
      ],
      "source": [
        "# Visualising the data\n",
        "# Converting the results to a Pandas DataFrame for visualization\n",
        "Cancellation_DataFrame = Cancellation.toPandas()\n",
        "\n",
        "# Filter the DataFrame to only include Reserved rows\n",
        "reserved = Cancellation_DataFrame[Cancellation_DataFrame['is_canceled'] == 'Reserved']\n",
        "# Filter the DataFrame to only include Cancelled rows\n",
        "cancelled=Cancellation_DataFrame[Cancellation_DataFrame['is_canceled'] == 'Cancelled']\n",
        "\n",
        "#Merging bothe dataframes:\n",
        "outputDataframe = pd.pivot_table(\n",
        "    pd.concat([reserved, cancelled]),\n",
        "    values='count',\n",
        "    index=['hotel'],\n",
        "    columns=['is_canceled'],\n",
        "    fill_value=0\n",
        ")\n",
        "\n",
        "# Calculating the rates \n",
        "outputDataframe['cancellation_rate'] = outputDataframe['Cancelled'] / ((outputDataframe['Cancelled'] + outputDataframe['Reserved'])) * 100\n",
        "outputDataframe['reservation_rate'] = outputDataframe['Reserved'] / ((outputDataframe['Cancelled'] + outputDataframe['Reserved'])) * 100\n",
        "\n",
        "# Getting the hotel with the highest reservation rate and lowest cancellation rate\n",
        "best_hotel = outputDataframe.nsmallest(1, 'cancellation_rate').nlargest(1, 'Reserved').index[0]\n",
        "best_hotel_row = outputDataframe.loc[[best_hotel], :]\n",
        "cancellation_rate = best_hotel_row.loc[best_hotel, 'cancellation_rate']\n",
        "reservation_rate = best_hotel_row.loc[best_hotel, 'reservation_rate']\n",
        "c = \"{:.3g}\".format(cancellation_rate)\n",
        "r = \"{:.3g}\".format(reservation_rate)\n",
        "\n",
        "# Visualizing the results:\n",
        "\n",
        "# create a horizontal bar chart\n",
        "fig, ax = plt.subplots(figsize=(8, 6))\n",
        "outputDataframe[['Cancelled', 'Reserved']].plot(kind='barh', ax=ax)\n",
        "\n",
        "# set the x-axis label\n",
        "ax.set_xlabel('Number of Rooms')\n",
        "\n",
        "# set the title and legend\n",
        "ax.set_title('Hotel Room Reservations and Cancellations')\n",
        "ax.legend(['Cancelled', 'Reserved'], loc='upper right')\n",
        "\n",
        "plt.show()\n",
        "print(\"Based on the results of the query and the graph above the\",best_hotel, \"is with the highest reservation rate\", r,\"and lowest cancellation rate\",c)\n"
      ]
    },
    {
      "attachments": {},
      "cell_type": "markdown",
      "metadata": {},
      "source": [
        "Insight Three"
      ]
    },
    {
      "cell_type": "code",
      "execution_count": 15,
      "metadata": {},
      "outputs": [
        {
          "data": {
            "image/png": "[encoded data removed]",
            "text/plain": [
              "<Figure size 640x480 with 1 Axes>"
            ]
          },
          "metadata": {},
          "output_type": "display_data"
        },
        {
          "data": {
            "image/png": "[encoded data removed]",
            "text/plain": [
              "<Figure size 640x480 with 1 Axes>"
            ]
          },
          "metadata": {},
          "output_type": "display_data"
        },
        {
          "name": "stdout",
          "output_type": "stream",
          "text": [
            "Based on the results we can say that bookings come from  TA/TO the most.\n",
            "The hotel can consider investing more in this channel.\n",
            "For Example:\n",
            "1) Include building stronger relationships with these partners by :\n",
            "A- offering them better commission rates, or providing them with additional marketing materials to promote the hotel.\n",
            "B- providing them with additional marketing materials to promote the hotel.\n",
            "Also the hotel can offer 10% from other guests coming from other channels to increase its guests\n"
          ]
        },
        {
          "name": "stderr",
          "output_type": "stream",
          "text": [
            "23/06/08 21:28:54 WARN GarbageCollectionMetrics: To enable non-built-in garbage collector(s) List(G1 Concurrent GC), users should configure it(them) to spark.eventLog.gcMetrics.youngGenerationGarbageCollectors or spark.eventLog.gcMetrics.oldGenerationGarbageCollectors\n"
          ]
        }
      ],
      "source": [
        "# Getting the count of each distribution channel to know which is more used:\n",
        "\n",
        "# Getting the total number of all distribution channels:\n",
        "query= df1.groupby(df1['distribution_channel'])\\\n",
        ".agg({\"distribution_channel\": \"count\"})\\\n",
        ".sort(\"distribution_channel\", ascending=False)\n",
        "\n",
        "total_distribution_channels = query.agg(sum(\"count(distribution_channel)\")).collect()[0][0]\n",
        "\n",
        "# Calculating the percentage of each one of them \n",
        "distributionChannel= df1.groupby(df1['distribution_channel'])\\\n",
        ".agg({\"distribution_channel\": \"count\"})\\\n",
        ".withColumn(\"percentage\",( ((F.col(\"count(distribution_channel)\"))/total_distribution_channels)*100) ) \\\n",
        ".sort(\"distribution_channel\", ascending=False)\n",
        "#distributionChannel.show()\n",
        "\n",
        "# Converting the results to a Pandas DataFrame for visualization\n",
        "distributionChannel_pd = distributionChannel.toPandas()\n",
        "distributionChannel_pd = distributionChannel_pd.sort_values(\"percentage\", ascending=False)\n",
        "\n",
        "# Getting the distribution channel with the highest percentage:\n",
        "source = distributionChannel_pd.iloc[0][\"distribution_channel\"]\n",
        "\n",
        "# Creating a bar chart of the distribution channel counts\n",
        "plt.bar(distributionChannel_pd[\"distribution_channel\"], distributionChannel_pd[\"count(distribution_channel)\"])\n",
        "plt.title(\"Distribution Channel Counts\")\n",
        "plt.xlabel(\"Distribution Channel\")\n",
        "plt.ylabel(\"Count\")\n",
        "plt.show()\n",
        "\n",
        "y = np.array(distributionChannel_pd[\"percentage\"])\n",
        "mycolors = [\"b\",\"r\", \"g\",  \"hotpink\"]\n",
        "plt.pie(y, labels=distributionChannel_pd['distribution_channel'], colors=mycolors)\n",
        "plt.title(\"Percentage Distribution of Distribution Channels\")\n",
        "plt.legend(loc='lower left')\n",
        "plt.show()\n",
        "\n",
        "if(source == \"TA/TO\"):\n",
        "    print(\"Based on the results we can say that bookings come from \",source, \"the most.\")\n",
        "    print(\"The hotel can consider investing more in this channel.\")\n",
        "    print(\"For Example:\")\n",
        "    print(\"1) Include building stronger relationships with these partners by :\")\n",
        "    print(\"A- offering them better commission rates, or providing them with additional marketing materials to promote the hotel.\")\n",
        "    print(\"B- providing them with additional marketing materials to promote the hotel.\")\n",
        "if(source== \"Direct\"):\n",
        "    print(\"Based on the results we can say that bookings come from \",source, \"the most.\")\n",
        "    print(\"The hotel can consider investing more in these channels.\")\n",
        "    print(\"For Example:\")\n",
        "    print(\"1) Optimize the hotel's website\")\n",
        "    print(\"2) Offer incentives for direct bookings\")\n",
        "    print(\"3) Use targeted marketing campaigns\")\n",
        "if(source== \"Corporate\"):\n",
        "    print(\"Based on the results we can say that bookings come from \",source, \"the most.\")\n",
        "    print(\"The hotel can consider investing more in these channels.\")\n",
        "    print(\"For Example:\")\n",
        "    print(\"1) Build stronger relationships with corporate clients by :\")\n",
        "    print(\"A- offering special rates or packages for corporate clients\")\n",
        "    print(\"B- providing additional amenities or services\")\n",
        "    print(\"2) Expand corporate partnerships by:\")\n",
        "    print(\"A- partnering with local businesses, attending corporate events or conferences,\")\n",
        "    print(\"B- eaching out to corporate travel agencies\")\n",
        "if(source== \"GDS\"):\n",
        "    print(\"Based on the results we can say that bookings come from \",source, \"the most.\")\n",
        "    print(\"The hotel can consider investing more in these channels.\")    \n",
        "print('Also the hotel can offer 10% from other guests coming from other channels to increase its guests')    "
      ]
    }
  ],
  "metadata": {
    "colab": {
      "provenance": []
    },
    "kernelspec": {
      "display_name": "Python 3",
      "language": "python",
      "name": "python3"
    },
    "language_info": {
      "codemirror_mode": {
        "name": "ipython",
        "version": 3
      },
      "file_extension": ".py",
      "mimetype": "text/x-python",
      "name": "python",
      "nbconvert_exporter": "python",
      "pygments_lexer": "ipython3",
      "version": "3.9.6"
    },
    "orig_nbformat": 4
  },
  "nbformat": 4,
  "nbformat_minor": 0
}
